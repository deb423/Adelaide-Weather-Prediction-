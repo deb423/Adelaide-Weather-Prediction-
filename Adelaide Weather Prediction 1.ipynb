{
 "cells": [
  {
   "cell_type": "code",
   "execution_count": 1,
   "id": "2adaddd9",
   "metadata": {},
   "outputs": [],
   "source": [
    "# Packages / libraries\n",
    "import os #provides functions for interacting with the operating system\n",
    "import numpy as np \n",
    "import pandas as pd\n",
    "from matplotlib import pyplot as plt\n",
    "import seaborn as sns\n",
    "from sklearn.model_selection import train_test_split\n",
    "import scipy.stats as stats\n",
    "\n",
    "# To change scientific numbers to float\n",
    "np.set_printoptions(formatter={'float_kind':'{:f}'.format})\n",
    "\n",
    "# Increases the size of sns plots\n",
    "sns.set(rc={'figure.figsize':(5,5)})\n",
    "\n",
    "# view all the dataframe\n",
    "pd.set_option('display.max_columns', None)\n",
    "#pd.set_option('display.max_rows', None)\n",
    "\n",
    "# remove warnings\n",
    "import warnings\n",
    "warnings.simplefilter(action='ignore', category=FutureWarning)\n",
    "pd.options.mode.chained_assignment = None"
   ]
  },
  {
   "cell_type": "code",
   "execution_count": 2,
   "id": "007b0244",
   "metadata": {},
   "outputs": [
    {
     "data": {
      "text/html": [
       "<div>\n",
       "<style scoped>\n",
       "    .dataframe tbody tr th:only-of-type {\n",
       "        vertical-align: middle;\n",
       "    }\n",
       "\n",
       "    .dataframe tbody tr th {\n",
       "        vertical-align: top;\n",
       "    }\n",
       "\n",
       "    .dataframe thead th {\n",
       "        text-align: right;\n",
       "    }\n",
       "</style>\n",
       "<table border=\"1\" class=\"dataframe\">\n",
       "  <thead>\n",
       "    <tr style=\"text-align: right;\">\n",
       "      <th></th>\n",
       "      <th>STATION</th>\n",
       "      <th>NAME</th>\n",
       "      <th>PRCP</th>\n",
       "      <th>TMAX</th>\n",
       "      <th>TMIN</th>\n",
       "    </tr>\n",
       "    <tr>\n",
       "      <th>DATE</th>\n",
       "      <th></th>\n",
       "      <th></th>\n",
       "      <th></th>\n",
       "      <th></th>\n",
       "      <th></th>\n",
       "    </tr>\n",
       "  </thead>\n",
       "  <tbody>\n",
       "    <tr>\n",
       "      <th>1970-01-01</th>\n",
       "      <td>ASN00023034</td>\n",
       "      <td>ADELAIDE AIRPORT, AS</td>\n",
       "      <td>0.49</td>\n",
       "      <td>64.0</td>\n",
       "      <td>48.0</td>\n",
       "    </tr>\n",
       "    <tr>\n",
       "      <th>1970-01-02</th>\n",
       "      <td>ASN00023034</td>\n",
       "      <td>ADELAIDE AIRPORT, AS</td>\n",
       "      <td>0.14</td>\n",
       "      <td>68.0</td>\n",
       "      <td>54.0</td>\n",
       "    </tr>\n",
       "    <tr>\n",
       "      <th>1970-01-03</th>\n",
       "      <td>ASN00023034</td>\n",
       "      <td>ADELAIDE AIRPORT, AS</td>\n",
       "      <td>0.07</td>\n",
       "      <td>65.0</td>\n",
       "      <td>53.0</td>\n",
       "    </tr>\n",
       "    <tr>\n",
       "      <th>1970-01-04</th>\n",
       "      <td>ASN00023034</td>\n",
       "      <td>ADELAIDE AIRPORT, AS</td>\n",
       "      <td>0.00</td>\n",
       "      <td>70.0</td>\n",
       "      <td>54.0</td>\n",
       "    </tr>\n",
       "    <tr>\n",
       "      <th>1970-01-05</th>\n",
       "      <td>ASN00023034</td>\n",
       "      <td>ADELAIDE AIRPORT, AS</td>\n",
       "      <td>0.00</td>\n",
       "      <td>70.0</td>\n",
       "      <td>52.0</td>\n",
       "    </tr>\n",
       "  </tbody>\n",
       "</table>\n",
       "</div>"
      ],
      "text/plain": [
       "                STATION                  NAME  PRCP  TMAX  TMIN\n",
       "DATE                                                           \n",
       "1970-01-01  ASN00023034  ADELAIDE AIRPORT, AS  0.49  64.0  48.0\n",
       "1970-01-02  ASN00023034  ADELAIDE AIRPORT, AS  0.14  68.0  54.0\n",
       "1970-01-03  ASN00023034  ADELAIDE AIRPORT, AS  0.07  65.0  53.0\n",
       "1970-01-04  ASN00023034  ADELAIDE AIRPORT, AS  0.00  70.0  54.0\n",
       "1970-01-05  ASN00023034  ADELAIDE AIRPORT, AS  0.00  70.0  52.0"
      ]
     },
     "execution_count": 2,
     "metadata": {},
     "output_type": "execute_result"
    }
   ],
   "source": [
    "weather_df = pd.read_csv(\"D:\\Data Science\\Weather Data -ML\\Adelaide Weather Data.csv\",index_col =\"DATE\")\n",
    "weather_df.head()"
   ]
  },
  {
   "cell_type": "code",
   "execution_count": 3,
   "id": "bd3a3937",
   "metadata": {},
   "outputs": [
    {
     "data": {
      "text/plain": [
       "(19293, 5)"
      ]
     },
     "execution_count": 3,
     "metadata": {},
     "output_type": "execute_result"
    }
   ],
   "source": [
    "weather_df.shape"
   ]
  },
  {
   "cell_type": "code",
   "execution_count": 4,
   "id": "032681e4",
   "metadata": {},
   "outputs": [
    {
     "data": {
      "text/plain": [
       "STATION    0\n",
       "NAME       0\n",
       "PRCP       3\n",
       "TMAX       3\n",
       "TMIN       7\n",
       "dtype: int64"
      ]
     },
     "execution_count": 4,
     "metadata": {},
     "output_type": "execute_result"
    }
   ],
   "source": [
    "weather_df.isnull().sum()"
   ]
  },
  {
   "cell_type": "code",
   "execution_count": 5,
   "id": "3dbce950",
   "metadata": {},
   "outputs": [],
   "source": [
    "weather_df =weather_df.ffill()"
   ]
  },
  {
   "cell_type": "code",
   "execution_count": 6,
   "id": "785bf3e2",
   "metadata": {},
   "outputs": [
    {
     "data": {
      "text/plain": [
       "STATION    0.0\n",
       "NAME       0.0\n",
       "PRCP       0.0\n",
       "TMAX       0.0\n",
       "TMIN       0.0\n",
       "dtype: float64"
      ]
     },
     "execution_count": 6,
     "metadata": {},
     "output_type": "execute_result"
    }
   ],
   "source": [
    "null_pct = weather_df.apply(pd.isnull).sum()/weather_df.shape[0]*100\n",
    "null_pct"
   ]
  },
  {
   "cell_type": "code",
   "execution_count": 7,
   "id": "1f4ea9ab",
   "metadata": {},
   "outputs": [
    {
     "data": {
      "text/plain": [
       "STATION     object\n",
       "NAME        object\n",
       "PRCP       float64\n",
       "TMAX       float64\n",
       "TMIN       float64\n",
       "dtype: object"
      ]
     },
     "execution_count": 7,
     "metadata": {},
     "output_type": "execute_result"
    }
   ],
   "source": [
    "weather_df.dtypes"
   ]
  },
  {
   "cell_type": "code",
   "execution_count": 8,
   "id": "1d2624d2",
   "metadata": {},
   "outputs": [
    {
     "data": {
      "text/plain": [
       "DatetimeIndex(['1970-01-01', '1970-01-02', '1970-01-03', '1970-01-04',\n",
       "               '1970-01-05', '1970-01-06', '1970-01-07', '1970-01-08',\n",
       "               '1970-01-09', '1970-01-10',\n",
       "               ...\n",
       "               '2022-10-18', '2022-10-19', '2022-10-20', '2022-10-21',\n",
       "               '2022-10-22', '2022-10-23', '2022-10-24', '2022-10-25',\n",
       "               '2022-10-26', '2022-10-27'],\n",
       "              dtype='datetime64[ns]', name='DATE', length=19293, freq=None)"
      ]
     },
     "execution_count": 8,
     "metadata": {},
     "output_type": "execute_result"
    }
   ],
   "source": [
    "weather_df.index = pd.to_datetime(weather_df.index)\n",
    "weather_df.index"
   ]
  },
  {
   "cell_type": "code",
   "execution_count": null,
   "id": "4ab17453",
   "metadata": {},
   "outputs": [],
   "source": []
  },
  {
   "cell_type": "code",
   "execution_count": 9,
   "id": "8c7bc31e",
   "metadata": {},
   "outputs": [
    {
     "data": {
      "text/plain": [
       "1970    365\n",
       "1971    365\n",
       "1972    366\n",
       "1973    365\n",
       "1974    365\n",
       "1975    365\n",
       "1976    366\n",
       "1977    365\n",
       "1978    365\n",
       "1979    365\n",
       "1980    366\n",
       "1981    365\n",
       "1982    365\n",
       "1983    365\n",
       "1984    366\n",
       "1985    365\n",
       "1986    365\n",
       "1987    365\n",
       "1988    366\n",
       "1989    365\n",
       "1990    365\n",
       "1991    365\n",
       "1992    366\n",
       "1993    365\n",
       "1994    365\n",
       "1995    365\n",
       "1996    366\n",
       "1997    365\n",
       "1998    365\n",
       "1999    365\n",
       "2000    366\n",
       "2001    365\n",
       "2002    365\n",
       "2003    365\n",
       "2004    366\n",
       "2005    365\n",
       "2006    365\n",
       "2007    365\n",
       "2008    366\n",
       "2009    365\n",
       "2010    365\n",
       "2011    365\n",
       "2012    366\n",
       "2013    365\n",
       "2014    365\n",
       "2015    365\n",
       "2016    366\n",
       "2017    365\n",
       "2018    365\n",
       "2019    365\n",
       "2020    366\n",
       "2021    365\n",
       "2022    300\n",
       "Name: DATE, dtype: int64"
      ]
     },
     "execution_count": 9,
     "metadata": {},
     "output_type": "execute_result"
    }
   ],
   "source": [
    "# sorting the year and findinf the number of rows for each year. Leap year will have 366 rows if there are no gaps\n",
    "weather_df.index.year.value_counts().sort_index()"
   ]
  },
  {
   "cell_type": "code",
   "execution_count": 10,
   "id": "010a6586",
   "metadata": {
    "scrolled": true
   },
   "outputs": [
    {
     "data": {
      "text/html": [
       "<div>\n",
       "<style scoped>\n",
       "    .dataframe tbody tr th:only-of-type {\n",
       "        vertical-align: middle;\n",
       "    }\n",
       "\n",
       "    .dataframe tbody tr th {\n",
       "        vertical-align: top;\n",
       "    }\n",
       "\n",
       "    .dataframe thead th {\n",
       "        text-align: right;\n",
       "    }\n",
       "</style>\n",
       "<table border=\"1\" class=\"dataframe\">\n",
       "  <thead>\n",
       "    <tr style=\"text-align: right;\">\n",
       "      <th></th>\n",
       "      <th>STATION</th>\n",
       "      <th>NAME</th>\n",
       "      <th>PRCP</th>\n",
       "      <th>TMAX</th>\n",
       "      <th>TMIN</th>\n",
       "      <th>TARGET</th>\n",
       "    </tr>\n",
       "    <tr>\n",
       "      <th>DATE</th>\n",
       "      <th></th>\n",
       "      <th></th>\n",
       "      <th></th>\n",
       "      <th></th>\n",
       "      <th></th>\n",
       "      <th></th>\n",
       "    </tr>\n",
       "  </thead>\n",
       "  <tbody>\n",
       "    <tr>\n",
       "      <th>1970-01-01</th>\n",
       "      <td>ASN00023034</td>\n",
       "      <td>ADELAIDE AIRPORT, AS</td>\n",
       "      <td>0.49</td>\n",
       "      <td>64.0</td>\n",
       "      <td>48.0</td>\n",
       "      <td>68.0</td>\n",
       "    </tr>\n",
       "    <tr>\n",
       "      <th>1970-01-02</th>\n",
       "      <td>ASN00023034</td>\n",
       "      <td>ADELAIDE AIRPORT, AS</td>\n",
       "      <td>0.14</td>\n",
       "      <td>68.0</td>\n",
       "      <td>54.0</td>\n",
       "      <td>65.0</td>\n",
       "    </tr>\n",
       "    <tr>\n",
       "      <th>1970-01-03</th>\n",
       "      <td>ASN00023034</td>\n",
       "      <td>ADELAIDE AIRPORT, AS</td>\n",
       "      <td>0.07</td>\n",
       "      <td>65.0</td>\n",
       "      <td>53.0</td>\n",
       "      <td>70.0</td>\n",
       "    </tr>\n",
       "    <tr>\n",
       "      <th>1970-01-04</th>\n",
       "      <td>ASN00023034</td>\n",
       "      <td>ADELAIDE AIRPORT, AS</td>\n",
       "      <td>0.00</td>\n",
       "      <td>70.0</td>\n",
       "      <td>54.0</td>\n",
       "      <td>70.0</td>\n",
       "    </tr>\n",
       "    <tr>\n",
       "      <th>1970-01-05</th>\n",
       "      <td>ASN00023034</td>\n",
       "      <td>ADELAIDE AIRPORT, AS</td>\n",
       "      <td>0.00</td>\n",
       "      <td>70.0</td>\n",
       "      <td>52.0</td>\n",
       "      <td>81.0</td>\n",
       "    </tr>\n",
       "    <tr>\n",
       "      <th>...</th>\n",
       "      <td>...</td>\n",
       "      <td>...</td>\n",
       "      <td>...</td>\n",
       "      <td>...</td>\n",
       "      <td>...</td>\n",
       "      <td>...</td>\n",
       "    </tr>\n",
       "    <tr>\n",
       "      <th>2022-10-23</th>\n",
       "      <td>ASN00023034</td>\n",
       "      <td>ADELAIDE AIRPORT, AS</td>\n",
       "      <td>0.03</td>\n",
       "      <td>63.0</td>\n",
       "      <td>58.0</td>\n",
       "      <td>66.0</td>\n",
       "    </tr>\n",
       "    <tr>\n",
       "      <th>2022-10-24</th>\n",
       "      <td>ASN00023034</td>\n",
       "      <td>ADELAIDE AIRPORT, AS</td>\n",
       "      <td>0.25</td>\n",
       "      <td>66.0</td>\n",
       "      <td>57.0</td>\n",
       "      <td>65.0</td>\n",
       "    </tr>\n",
       "    <tr>\n",
       "      <th>2022-10-25</th>\n",
       "      <td>ASN00023034</td>\n",
       "      <td>ADELAIDE AIRPORT, AS</td>\n",
       "      <td>0.04</td>\n",
       "      <td>65.0</td>\n",
       "      <td>56.0</td>\n",
       "      <td>65.0</td>\n",
       "    </tr>\n",
       "    <tr>\n",
       "      <th>2022-10-26</th>\n",
       "      <td>ASN00023034</td>\n",
       "      <td>ADELAIDE AIRPORT, AS</td>\n",
       "      <td>0.05</td>\n",
       "      <td>65.0</td>\n",
       "      <td>56.0</td>\n",
       "      <td>65.0</td>\n",
       "    </tr>\n",
       "    <tr>\n",
       "      <th>2022-10-27</th>\n",
       "      <td>ASN00023034</td>\n",
       "      <td>ADELAIDE AIRPORT, AS</td>\n",
       "      <td>0.01</td>\n",
       "      <td>65.0</td>\n",
       "      <td>56.0</td>\n",
       "      <td>NaN</td>\n",
       "    </tr>\n",
       "  </tbody>\n",
       "</table>\n",
       "<p>19293 rows × 6 columns</p>\n",
       "</div>"
      ],
      "text/plain": [
       "                STATION                  NAME  PRCP  TMAX  TMIN  TARGET\n",
       "DATE                                                                   \n",
       "1970-01-01  ASN00023034  ADELAIDE AIRPORT, AS  0.49  64.0  48.0    68.0\n",
       "1970-01-02  ASN00023034  ADELAIDE AIRPORT, AS  0.14  68.0  54.0    65.0\n",
       "1970-01-03  ASN00023034  ADELAIDE AIRPORT, AS  0.07  65.0  53.0    70.0\n",
       "1970-01-04  ASN00023034  ADELAIDE AIRPORT, AS  0.00  70.0  54.0    70.0\n",
       "1970-01-05  ASN00023034  ADELAIDE AIRPORT, AS  0.00  70.0  52.0    81.0\n",
       "...                 ...                   ...   ...   ...   ...     ...\n",
       "2022-10-23  ASN00023034  ADELAIDE AIRPORT, AS  0.03  63.0  58.0    66.0\n",
       "2022-10-24  ASN00023034  ADELAIDE AIRPORT, AS  0.25  66.0  57.0    65.0\n",
       "2022-10-25  ASN00023034  ADELAIDE AIRPORT, AS  0.04  65.0  56.0    65.0\n",
       "2022-10-26  ASN00023034  ADELAIDE AIRPORT, AS  0.05  65.0  56.0    65.0\n",
       "2022-10-27  ASN00023034  ADELAIDE AIRPORT, AS  0.01  65.0  56.0     NaN\n",
       "\n",
       "[19293 rows x 6 columns]"
      ]
     },
     "execution_count": 10,
     "metadata": {},
     "output_type": "execute_result"
    }
   ],
   "source": [
    "weather_df[\"TARGET\"] = weather_df.shift(-1)[\"TMAX\"]\n",
    "weather_df"
   ]
  },
  {
   "cell_type": "code",
   "execution_count": 11,
   "id": "2329264f",
   "metadata": {},
   "outputs": [
    {
     "data": {
      "text/html": [
       "<div>\n",
       "<style scoped>\n",
       "    .dataframe tbody tr th:only-of-type {\n",
       "        vertical-align: middle;\n",
       "    }\n",
       "\n",
       "    .dataframe tbody tr th {\n",
       "        vertical-align: top;\n",
       "    }\n",
       "\n",
       "    .dataframe thead th {\n",
       "        text-align: right;\n",
       "    }\n",
       "</style>\n",
       "<table border=\"1\" class=\"dataframe\">\n",
       "  <thead>\n",
       "    <tr style=\"text-align: right;\">\n",
       "      <th></th>\n",
       "      <th>STATION</th>\n",
       "      <th>NAME</th>\n",
       "      <th>PRCP</th>\n",
       "      <th>TMAX</th>\n",
       "      <th>TMIN</th>\n",
       "      <th>TARGET</th>\n",
       "    </tr>\n",
       "    <tr>\n",
       "      <th>DATE</th>\n",
       "      <th></th>\n",
       "      <th></th>\n",
       "      <th></th>\n",
       "      <th></th>\n",
       "      <th></th>\n",
       "      <th></th>\n",
       "    </tr>\n",
       "  </thead>\n",
       "  <tbody>\n",
       "    <tr>\n",
       "      <th>1970-01-01</th>\n",
       "      <td>ASN00023034</td>\n",
       "      <td>ADELAIDE AIRPORT, AS</td>\n",
       "      <td>0.49</td>\n",
       "      <td>64.0</td>\n",
       "      <td>48.0</td>\n",
       "      <td>68.0</td>\n",
       "    </tr>\n",
       "    <tr>\n",
       "      <th>1970-01-02</th>\n",
       "      <td>ASN00023034</td>\n",
       "      <td>ADELAIDE AIRPORT, AS</td>\n",
       "      <td>0.14</td>\n",
       "      <td>68.0</td>\n",
       "      <td>54.0</td>\n",
       "      <td>65.0</td>\n",
       "    </tr>\n",
       "    <tr>\n",
       "      <th>1970-01-03</th>\n",
       "      <td>ASN00023034</td>\n",
       "      <td>ADELAIDE AIRPORT, AS</td>\n",
       "      <td>0.07</td>\n",
       "      <td>65.0</td>\n",
       "      <td>53.0</td>\n",
       "      <td>70.0</td>\n",
       "    </tr>\n",
       "    <tr>\n",
       "      <th>1970-01-04</th>\n",
       "      <td>ASN00023034</td>\n",
       "      <td>ADELAIDE AIRPORT, AS</td>\n",
       "      <td>0.00</td>\n",
       "      <td>70.0</td>\n",
       "      <td>54.0</td>\n",
       "      <td>70.0</td>\n",
       "    </tr>\n",
       "    <tr>\n",
       "      <th>1970-01-05</th>\n",
       "      <td>ASN00023034</td>\n",
       "      <td>ADELAIDE AIRPORT, AS</td>\n",
       "      <td>0.00</td>\n",
       "      <td>70.0</td>\n",
       "      <td>52.0</td>\n",
       "      <td>81.0</td>\n",
       "    </tr>\n",
       "    <tr>\n",
       "      <th>...</th>\n",
       "      <td>...</td>\n",
       "      <td>...</td>\n",
       "      <td>...</td>\n",
       "      <td>...</td>\n",
       "      <td>...</td>\n",
       "      <td>...</td>\n",
       "    </tr>\n",
       "    <tr>\n",
       "      <th>2022-10-23</th>\n",
       "      <td>ASN00023034</td>\n",
       "      <td>ADELAIDE AIRPORT, AS</td>\n",
       "      <td>0.03</td>\n",
       "      <td>63.0</td>\n",
       "      <td>58.0</td>\n",
       "      <td>66.0</td>\n",
       "    </tr>\n",
       "    <tr>\n",
       "      <th>2022-10-24</th>\n",
       "      <td>ASN00023034</td>\n",
       "      <td>ADELAIDE AIRPORT, AS</td>\n",
       "      <td>0.25</td>\n",
       "      <td>66.0</td>\n",
       "      <td>57.0</td>\n",
       "      <td>65.0</td>\n",
       "    </tr>\n",
       "    <tr>\n",
       "      <th>2022-10-25</th>\n",
       "      <td>ASN00023034</td>\n",
       "      <td>ADELAIDE AIRPORT, AS</td>\n",
       "      <td>0.04</td>\n",
       "      <td>65.0</td>\n",
       "      <td>56.0</td>\n",
       "      <td>65.0</td>\n",
       "    </tr>\n",
       "    <tr>\n",
       "      <th>2022-10-26</th>\n",
       "      <td>ASN00023034</td>\n",
       "      <td>ADELAIDE AIRPORT, AS</td>\n",
       "      <td>0.05</td>\n",
       "      <td>65.0</td>\n",
       "      <td>56.0</td>\n",
       "      <td>65.0</td>\n",
       "    </tr>\n",
       "    <tr>\n",
       "      <th>2022-10-27</th>\n",
       "      <td>ASN00023034</td>\n",
       "      <td>ADELAIDE AIRPORT, AS</td>\n",
       "      <td>0.01</td>\n",
       "      <td>65.0</td>\n",
       "      <td>56.0</td>\n",
       "      <td>65.0</td>\n",
       "    </tr>\n",
       "  </tbody>\n",
       "</table>\n",
       "<p>19293 rows × 6 columns</p>\n",
       "</div>"
      ],
      "text/plain": [
       "                STATION                  NAME  PRCP  TMAX  TMIN  TARGET\n",
       "DATE                                                                   \n",
       "1970-01-01  ASN00023034  ADELAIDE AIRPORT, AS  0.49  64.0  48.0    68.0\n",
       "1970-01-02  ASN00023034  ADELAIDE AIRPORT, AS  0.14  68.0  54.0    65.0\n",
       "1970-01-03  ASN00023034  ADELAIDE AIRPORT, AS  0.07  65.0  53.0    70.0\n",
       "1970-01-04  ASN00023034  ADELAIDE AIRPORT, AS  0.00  70.0  54.0    70.0\n",
       "1970-01-05  ASN00023034  ADELAIDE AIRPORT, AS  0.00  70.0  52.0    81.0\n",
       "...                 ...                   ...   ...   ...   ...     ...\n",
       "2022-10-23  ASN00023034  ADELAIDE AIRPORT, AS  0.03  63.0  58.0    66.0\n",
       "2022-10-24  ASN00023034  ADELAIDE AIRPORT, AS  0.25  66.0  57.0    65.0\n",
       "2022-10-25  ASN00023034  ADELAIDE AIRPORT, AS  0.04  65.0  56.0    65.0\n",
       "2022-10-26  ASN00023034  ADELAIDE AIRPORT, AS  0.05  65.0  56.0    65.0\n",
       "2022-10-27  ASN00023034  ADELAIDE AIRPORT, AS  0.01  65.0  56.0    65.0\n",
       "\n",
       "[19293 rows x 6 columns]"
      ]
     },
     "execution_count": 11,
     "metadata": {},
     "output_type": "execute_result"
    }
   ],
   "source": [
    "weather_df = weather_df.ffill()\n",
    "weather_df"
   ]
  },
  {
   "cell_type": "code",
   "execution_count": 12,
   "id": "e79ef843",
   "metadata": {},
   "outputs": [
    {
     "data": {
      "image/png": "[encoded data removed]",
      "text/plain": [
       "<Figure size 576x360 with 1 Axes>"
      ]
     },
     "metadata": {},
     "output_type": "display_data"
    },
    {
     "data": {
      "image/png": "[encoded data removed]",
      "text/plain": [
       "<Figure size 576x360 with 1 Axes>"
      ]
     },
     "metadata": {},
     "output_type": "display_data"
    },
    {
     "data": {
      "image/png": "[encoded data removed]",
      "text/plain": [
       "<Figure size 576x360 with 1 Axes>"
      ]
     },
     "metadata": {},
     "output_type": "display_data"
    },
    {
     "data": {
      "image/png": "[encoded data removed]",
      "text/plain": [
       "<Figure size 576x360 with 1 Axes>"
      ]
     },
     "metadata": {},
     "output_type": "display_data"
    }
   ],
   "source": [
    "# Investigating the distribution of the numenric data\n",
    "numeric =['PRCP','TMIN','TMAX','TARGET']\n",
    "sns.set(rc={'figure.figsize':(8,5)})\n",
    "\n",
    "\n",
    "for n in numeric:\n",
    "    x = weather_df[n].values\n",
    "    sns.distplot(x, color = 'blue');\n",
    "\n",
    "    # Calculating the mean\n",
    "    mean = weather_df[n].mean()\n",
    "\n",
    "    #ploting the mean\n",
    "    plt.axvline(mean, 0,1, color = 'red')\n",
    "    plt.title(n)\n",
    "    plt.show()"
   ]
  },
  {
   "cell_type": "code",
   "execution_count": 13,
   "id": "419f82dc",
   "metadata": {},
   "outputs": [
    {
     "data": {
      "image/png": "[encoded data removed]",
      "text/plain": [
       "<Figure size 720x576 with 2 Axes>"
      ]
     },
     "metadata": {},
     "output_type": "display_data"
    }
   ],
   "source": [
    "corrmat = weather_df.corr(method = \"spearman\")\n",
    "plt.figure(figsize=(10,8))\n",
    "#plot heat map\n",
    "g=sns.heatmap(corrmat,annot=True)"
   ]
  },
  {
   "cell_type": "code",
   "execution_count": 14,
   "id": "9287153b",
   "metadata": {},
   "outputs": [
    {
     "data": {
      "image/png": "[encoded data removed]",
      "text/plain": [
       "<Figure size 576x360 with 1 Axes>"
      ]
     },
     "metadata": {},
     "output_type": "display_data"
    },
    {
     "data": {
      "image/png": "[encoded data removed]",
      "text/plain": [
       "<Figure size 576x720 with 1 Axes>"
      ]
     },
     "metadata": {},
     "output_type": "display_data"
    },
    {
     "data": {
      "image/png": "[encoded data removed]",
      "text/plain": [
       "<Figure size 576x720 with 1 Axes>"
      ]
     },
     "metadata": {},
     "output_type": "display_data"
    },
    {
     "data": {
      "image/png": "[encoded data removed]",
      "text/plain": [
       "<Figure size 576x720 with 1 Axes>"
      ]
     },
     "metadata": {},
     "output_type": "display_data"
    },
    {
     "data": {
      "text/plain": [
       "<Figure size 576x720 with 0 Axes>"
      ]
     },
     "metadata": {},
     "output_type": "display_data"
    }
   ],
   "source": [
    "#A for loop is used to plot a boxplot for all the continuous features to see the outliers\n",
    "for feature in numeric:\n",
    "    data=weather_df.copy()\n",
    "    sns.boxplot(data[feature])\n",
    "    plt.title(feature)\n",
    "    plt.figure(figsize=(8,10))"
   ]
  },
  {
   "cell_type": "code",
   "execution_count": 15,
   "id": "629fca38",
   "metadata": {},
   "outputs": [
    {
     "name": "stdout",
     "output_type": "stream",
     "text": [
      "-0.03 0.05\n"
     ]
    }
   ],
   "source": [
    "IQR=weather_df.PRCP.quantile(0.75)-weather_df.PRCP.quantile(0.25)\n",
    "lower_bridge=weather_df.PRCP.quantile(0.25)-(IQR*1.5)\n",
    "upper_bridge=weather_df.PRCP.quantile(0.75)+(IQR*1.5)\n",
    "print(lower_bridge, upper_bridge)"
   ]
  },
  {
   "cell_type": "code",
   "execution_count": 16,
   "id": "8b67b4c7",
   "metadata": {},
   "outputs": [],
   "source": [
    "weather_df.loc[weather_df['PRCP']>= 0.05,'PRCP']=0.05\n",
    "weather_df.loc[weather_df['PRCP']<=-0.03,'PRCP']=-0.03"
   ]
  },
  {
   "cell_type": "code",
   "execution_count": 17,
   "id": "ae4378cd",
   "metadata": {},
   "outputs": [
    {
     "name": "stdout",
     "output_type": "stream",
     "text": [
      "38.0 102.0\n"
     ]
    }
   ],
   "source": [
    "IQR=weather_df.TMAX.quantile(0.75)-weather_df.TMAX.quantile(0.25)\n",
    "lower_bridge=weather_df.TMAX.quantile(0.25)-(IQR*1.5)\n",
    "upper_bridge=weather_df.TMAX.quantile(0.75)+(IQR*1.5)\n",
    "print(lower_bridge, upper_bridge)"
   ]
  },
  {
   "cell_type": "code",
   "execution_count": 18,
   "id": "f16599c6",
   "metadata": {},
   "outputs": [],
   "source": [
    "weather_df.loc[weather_df['TMAX']>= 102.0,'TMAX']=102.0\n",
    "weather_df.loc[weather_df['TMAX']<=38.0,'TMAX']=38.0"
   ]
  },
  {
   "cell_type": "code",
   "execution_count": 19,
   "id": "3d3f561b",
   "metadata": {},
   "outputs": [
    {
     "name": "stdout",
     "output_type": "stream",
     "text": [
      "30.5 74.5\n"
     ]
    }
   ],
   "source": [
    "IQR=weather_df.TMIN.quantile(0.75)-weather_df.TMIN.quantile(0.25)\n",
    "lower_bridge=weather_df.TMIN.quantile(0.25)-(IQR*1.5)\n",
    "upper_bridge=weather_df.TMIN.quantile(0.75)+(IQR*1.5)\n",
    "print(lower_bridge, upper_bridge)"
   ]
  },
  {
   "cell_type": "code",
   "execution_count": 20,
   "id": "bc4cf68c",
   "metadata": {},
   "outputs": [],
   "source": [
    "weather_df.loc[weather_df['TMIN']>= 74.5,'TMIN']=74.5\n",
    "weather_df.loc[weather_df['TMIN']<=30.5,'TMIN']=30.5"
   ]
  },
  {
   "cell_type": "code",
   "execution_count": 21,
   "id": "b8bb50d5",
   "metadata": {},
   "outputs": [
    {
     "name": "stdout",
     "output_type": "stream",
     "text": [
      "38.0 102.0\n"
     ]
    }
   ],
   "source": [
    "IQR=weather_df.TARGET.quantile(0.75)-weather_df.TARGET.quantile(0.25)\n",
    "lower_bridge=weather_df.TARGET.quantile(0.25)-(IQR*1.5)\n",
    "upper_bridge=weather_df.TARGET.quantile(0.75)+(IQR*1.5)\n",
    "print(lower_bridge, upper_bridge)"
   ]
  },
  {
   "cell_type": "code",
   "execution_count": 22,
   "id": "fb287fd4",
   "metadata": {},
   "outputs": [],
   "source": [
    "weather_df.loc[weather_df['TARGET']>= 102,'TARGET']=102\n",
    "weather_df.loc[weather_df['TARGET']<=38,'TARGET']=38"
   ]
  },
  {
   "cell_type": "code",
   "execution_count": 23,
   "id": "74f9a21d",
   "metadata": {},
   "outputs": [
    {
     "data": {
      "image/png": "[encoded data removed]",
      "text/plain": [
       "<Figure size 576x360 with 1 Axes>"
      ]
     },
     "metadata": {},
     "output_type": "display_data"
    },
    {
     "data": {
      "image/png": "[encoded data removed]",
      "text/plain": [
       "<Figure size 576x720 with 1 Axes>"
      ]
     },
     "metadata": {},
     "output_type": "display_data"
    },
    {
     "data": {
      "image/png": "[encoded data removed]",
      "text/plain": [
       "<Figure size 576x720 with 1 Axes>"
      ]
     },
     "metadata": {},
     "output_type": "display_data"
    },
    {
     "data": {
      "image/png": "[encoded data removed]",
      "text/plain": [
       "<Figure size 576x720 with 1 Axes>"
      ]
     },
     "metadata": {},
     "output_type": "display_data"
    },
    {
     "data": {
      "text/plain": [
       "<Figure size 576x720 with 0 Axes>"
      ]
     },
     "metadata": {},
     "output_type": "display_data"
    }
   ],
   "source": [
    "#Checking the outliers after outlier treatment qith IQR\n",
    "for feature in numeric:\n",
    "    data=weather_df.copy()\n",
    "    sns.boxplot(data[feature])\n",
    "    plt.title(feature)\n",
    "    plt.figure(figsize=(8,10))"
   ]
  },
  {
   "cell_type": "code",
   "execution_count": 24,
   "id": "efe03fe3",
   "metadata": {},
   "outputs": [],
   "source": [
    "def qq_plots(weather_df, variable):\n",
    "    plt.figure(figsize=(15,6))\n",
    "    plt.subplot(1, 2, 1)\n",
    "    weather_df[variable].hist()\n",
    "    plt.subplot(1, 2, 2)\n",
    "    stats.probplot(weather_df[variable], dist=\"norm\", plot=plt)\n",
    "    plt.show()"
   ]
  },
  {
   "cell_type": "code",
   "execution_count": 25,
   "id": "4029322f",
   "metadata": {},
   "outputs": [
    {
     "name": "stdout",
     "output_type": "stream",
     "text": [
      "PRCP\n"
     ]
    },
    {
     "data": {
      "image/png": "[encoded data removed]",
      "text/plain": [
       "<Figure size 1080x432 with 2 Axes>"
      ]
     },
     "metadata": {},
     "output_type": "display_data"
    },
    {
     "name": "stdout",
     "output_type": "stream",
     "text": [
      "TMIN\n"
     ]
    },
    {
     "data": {
      "image/png": "[encoded data removed]",
      "text/plain": [
       "<Figure size 1080x432 with 2 Axes>"
      ]
     },
     "metadata": {},
     "output_type": "display_data"
    },
    {
     "name": "stdout",
     "output_type": "stream",
     "text": [
      "TMAX\n"
     ]
    },
    {
     "data": {
      "image/png": "[encoded data removed]",
      "text/plain": [
       "<Figure size 1080x432 with 2 Axes>"
      ]
     },
     "metadata": {},
     "output_type": "display_data"
    },
    {
     "name": "stdout",
     "output_type": "stream",
     "text": [
      "TARGET\n"
     ]
    },
    {
     "data": {
      "image/png": "[encoded data removed]",
      "text/plain": [
       "<Figure size 1080x432 with 2 Axes>"
      ]
     },
     "metadata": {},
     "output_type": "display_data"
    }
   ],
   "source": [
    "for feature in numeric:\n",
    "    print(feature)\n",
    "    plt.figure(figsize=(15,6))\n",
    "    plt.subplot(1, 2, 1)\n",
    "    weather_df[feature].hist()\n",
    "    plt.subplot(1, 2, 2)\n",
    "    stats.probplot(weather_df[feature], dist=\"norm\", plot=plt)\n",
    "    plt.show()"
   ]
  },
  {
   "cell_type": "code",
   "execution_count": 26,
   "id": "42c4e89d",
   "metadata": {},
   "outputs": [],
   "source": [
    "weather_df.to_csv(\"preprocessed_1.csv\", index=False)"
   ]
  },
  {
   "cell_type": "markdown",
   "id": "5dedf5fb",
   "metadata": {},
   "source": [
    "## Machine Learning Model with Ridge Regression "
   ]
  },
  {
   "cell_type": "code",
   "execution_count": 27,
   "id": "89d3f054",
   "metadata": {},
   "outputs": [],
   "source": [
    "from sklearn.linear_model import Ridge\n",
    "\n",
    "rr = Ridge(alpha=.1)"
   ]
  },
  {
   "cell_type": "code",
   "execution_count": 44,
   "id": "9fe2d63d",
   "metadata": {
    "scrolled": true
   },
   "outputs": [
    {
     "data": {
      "text/plain": [
       "Index(['PRCP', 'TMAX', 'TMIN', 'rolling_3_TMAX', 'rolling_3_TMAX_pct',\n",
       "       'rolling_3_TMIN', 'rolling_3_TMIN_pct', 'rolling_3_PRCP',\n",
       "       'rolling_3_PRCP_pct', 'rolling_14_TMAX', 'rolling_14_TMAX_pct',\n",
       "       'rolling_14_TMIN', 'rolling_14_TMIN_pct', 'rolling_14_PRCP',\n",
       "       'rolling_14_PRCP_pct', 'month_avg_TMAX', 'day_avg_TMAX',\n",
       "       'month_avg_TMIN', 'day_avg_TMIN', 'month_avg_PRCP', 'day_avg_PRCP'],\n",
       "      dtype='object')"
      ]
     },
     "execution_count": 44,
     "metadata": {},
     "output_type": "execute_result"
    }
   ],
   "source": [
    "# creating predictor columns  \n",
    "predictors = weather_df.columns[~weather_df.columns.isin([\"TARGET\", \"NAME\", \"STATION\"])]"
   ]
  },
  {
   "cell_type": "markdown",
   "id": "858226c1",
   "metadata": {},
   "source": [
    "We will be doing backtesting to account for the time series nature of the data "
   ]
  },
  {
   "cell_type": "code",
   "execution_count": 29,
   "id": "762cc42f",
   "metadata": {},
   "outputs": [],
   "source": [
    "def backtest(weather_df, model, predictors, start=3650, step=90):\n",
    "    all_predictions = []\n",
    "    \n",
    "    for i in range(start, weather_df.shape[0], step):\n",
    "        train = weather_df.iloc[:i,:]\n",
    "        test = weather_df.iloc[i:(i+step),:]\n",
    "        \n",
    "        model.fit(train[predictors], train[\"TARGET\"])\n",
    "        \n",
    "        preds = model.predict(test[predictors])\n",
    "        preds = pd.Series(preds, index=test.index)\n",
    "        combined = pd.concat([test[\"TARGET\"], preds], axis=1)\n",
    "        combined.columns = [\"actual\", \"prediction\"]\n",
    "        combined[\"diff\"] = (combined[\"prediction\"] - combined[\"actual\"]).abs()\n",
    "        \n",
    "        all_predictions.append(combined)\n",
    "    return pd.concat(all_predictions)"
   ]
  },
  {
   "cell_type": "code",
   "execution_count": 30,
   "id": "6b916907",
   "metadata": {},
   "outputs": [
    {
     "data": {
      "text/html": [
       "<div>\n",
       "<style scoped>\n",
       "    .dataframe tbody tr th:only-of-type {\n",
       "        vertical-align: middle;\n",
       "    }\n",
       "\n",
       "    .dataframe tbody tr th {\n",
       "        vertical-align: top;\n",
       "    }\n",
       "\n",
       "    .dataframe thead th {\n",
       "        text-align: right;\n",
       "    }\n",
       "</style>\n",
       "<table border=\"1\" class=\"dataframe\">\n",
       "  <thead>\n",
       "    <tr style=\"text-align: right;\">\n",
       "      <th></th>\n",
       "      <th>actual</th>\n",
       "      <th>prediction</th>\n",
       "      <th>diff</th>\n",
       "    </tr>\n",
       "    <tr>\n",
       "      <th>DATE</th>\n",
       "      <th></th>\n",
       "      <th></th>\n",
       "      <th></th>\n",
       "    </tr>\n",
       "  </thead>\n",
       "  <tbody>\n",
       "    <tr>\n",
       "      <th>1979-12-30</th>\n",
       "      <td>74.0</td>\n",
       "      <td>75.625447</td>\n",
       "      <td>1.625447</td>\n",
       "    </tr>\n",
       "    <tr>\n",
       "      <th>1979-12-31</th>\n",
       "      <td>76.0</td>\n",
       "      <td>72.391198</td>\n",
       "      <td>3.608802</td>\n",
       "    </tr>\n",
       "    <tr>\n",
       "      <th>1980-01-01</th>\n",
       "      <td>82.0</td>\n",
       "      <td>75.155327</td>\n",
       "      <td>6.844673</td>\n",
       "    </tr>\n",
       "    <tr>\n",
       "      <th>1980-01-02</th>\n",
       "      <td>83.0</td>\n",
       "      <td>80.055055</td>\n",
       "      <td>2.944945</td>\n",
       "    </tr>\n",
       "    <tr>\n",
       "      <th>1980-01-03</th>\n",
       "      <td>83.0</td>\n",
       "      <td>80.549320</td>\n",
       "      <td>2.450680</td>\n",
       "    </tr>\n",
       "    <tr>\n",
       "      <th>...</th>\n",
       "      <td>...</td>\n",
       "      <td>...</td>\n",
       "      <td>...</td>\n",
       "    </tr>\n",
       "    <tr>\n",
       "      <th>2022-10-23</th>\n",
       "      <td>66.0</td>\n",
       "      <td>63.872634</td>\n",
       "      <td>2.127366</td>\n",
       "    </tr>\n",
       "    <tr>\n",
       "      <th>2022-10-24</th>\n",
       "      <td>65.0</td>\n",
       "      <td>65.762267</td>\n",
       "      <td>0.762267</td>\n",
       "    </tr>\n",
       "    <tr>\n",
       "      <th>2022-10-25</th>\n",
       "      <td>65.0</td>\n",
       "      <td>65.281504</td>\n",
       "      <td>0.281504</td>\n",
       "    </tr>\n",
       "    <tr>\n",
       "      <th>2022-10-26</th>\n",
       "      <td>65.0</td>\n",
       "      <td>65.002232</td>\n",
       "      <td>0.002232</td>\n",
       "    </tr>\n",
       "    <tr>\n",
       "      <th>2022-10-27</th>\n",
       "      <td>65.0</td>\n",
       "      <td>66.119320</td>\n",
       "      <td>1.119320</td>\n",
       "    </tr>\n",
       "  </tbody>\n",
       "</table>\n",
       "<p>15643 rows × 3 columns</p>\n",
       "</div>"
      ],
      "text/plain": [
       "            actual  prediction      diff\n",
       "DATE                                    \n",
       "1979-12-30    74.0   75.625447  1.625447\n",
       "1979-12-31    76.0   72.391198  3.608802\n",
       "1980-01-01    82.0   75.155327  6.844673\n",
       "1980-01-02    83.0   80.055055  2.944945\n",
       "1980-01-03    83.0   80.549320  2.450680\n",
       "...            ...         ...       ...\n",
       "2022-10-23    66.0   63.872634  2.127366\n",
       "2022-10-24    65.0   65.762267  0.762267\n",
       "2022-10-25    65.0   65.281504  0.281504\n",
       "2022-10-26    65.0   65.002232  0.002232\n",
       "2022-10-27    65.0   66.119320  1.119320\n",
       "\n",
       "[15643 rows x 3 columns]"
      ]
     },
     "execution_count": 30,
     "metadata": {},
     "output_type": "execute_result"
    }
   ],
   "source": [
    "predictions = backtest(weather_df, rr, predictors)\n",
    "predictions"
   ]
  },
  {
   "cell_type": "code",
   "execution_count": 31,
   "id": "cd6c475e",
   "metadata": {},
   "outputs": [
    {
     "data": {
      "text/plain": [
       "5.037016556896298"
      ]
     },
     "execution_count": 31,
     "metadata": {},
     "output_type": "execute_result"
    }
   ],
   "source": [
    "from sklearn.metrics import mean_absolute_error\n",
    "\n",
    "mean_absolute_error(predictions[\"actual\"], predictions[\"prediction\"])"
   ]
  },
  {
   "cell_type": "markdown",
   "id": "d31c8c39",
   "metadata": {},
   "source": [
    "__With mean absolute error we can see that with our predictions we are 5 degrees off from the actual temperature__"
   ]
  },
  {
   "cell_type": "code",
   "execution_count": 32,
   "id": "2e4f219e",
   "metadata": {},
   "outputs": [
    {
     "data": {
      "text/html": [
       "<div>\n",
       "<style scoped>\n",
       "    .dataframe tbody tr th:only-of-type {\n",
       "        vertical-align: middle;\n",
       "    }\n",
       "\n",
       "    .dataframe tbody tr th {\n",
       "        vertical-align: top;\n",
       "    }\n",
       "\n",
       "    .dataframe thead th {\n",
       "        text-align: right;\n",
       "    }\n",
       "</style>\n",
       "<table border=\"1\" class=\"dataframe\">\n",
       "  <thead>\n",
       "    <tr style=\"text-align: right;\">\n",
       "      <th></th>\n",
       "      <th>actual</th>\n",
       "      <th>prediction</th>\n",
       "      <th>diff</th>\n",
       "    </tr>\n",
       "    <tr>\n",
       "      <th>DATE</th>\n",
       "      <th></th>\n",
       "      <th></th>\n",
       "      <th></th>\n",
       "    </tr>\n",
       "  </thead>\n",
       "  <tbody>\n",
       "    <tr>\n",
       "      <th>1986-11-25</th>\n",
       "      <td>67.0</td>\n",
       "      <td>95.469812</td>\n",
       "      <td>28.469812</td>\n",
       "    </tr>\n",
       "    <tr>\n",
       "      <th>1988-11-02</th>\n",
       "      <td>66.0</td>\n",
       "      <td>93.664879</td>\n",
       "      <td>27.664879</td>\n",
       "    </tr>\n",
       "    <tr>\n",
       "      <th>2019-11-20</th>\n",
       "      <td>69.0</td>\n",
       "      <td>95.600927</td>\n",
       "      <td>26.600927</td>\n",
       "    </tr>\n",
       "    <tr>\n",
       "      <th>2019-10-05</th>\n",
       "      <td>63.0</td>\n",
       "      <td>89.551446</td>\n",
       "      <td>26.551446</td>\n",
       "    </tr>\n",
       "    <tr>\n",
       "      <th>1994-11-19</th>\n",
       "      <td>64.0</td>\n",
       "      <td>90.438410</td>\n",
       "      <td>26.438410</td>\n",
       "    </tr>\n",
       "    <tr>\n",
       "      <th>...</th>\n",
       "      <td>...</td>\n",
       "      <td>...</td>\n",
       "      <td>...</td>\n",
       "    </tr>\n",
       "    <tr>\n",
       "      <th>2017-08-06</th>\n",
       "      <td>59.0</td>\n",
       "      <td>58.998511</td>\n",
       "      <td>0.001489</td>\n",
       "    </tr>\n",
       "    <tr>\n",
       "      <th>1984-07-10</th>\n",
       "      <td>59.0</td>\n",
       "      <td>59.001464</td>\n",
       "      <td>0.001464</td>\n",
       "    </tr>\n",
       "    <tr>\n",
       "      <th>2010-10-17</th>\n",
       "      <td>62.0</td>\n",
       "      <td>62.001441</td>\n",
       "      <td>0.001441</td>\n",
       "    </tr>\n",
       "    <tr>\n",
       "      <th>1991-03-19</th>\n",
       "      <td>70.0</td>\n",
       "      <td>70.001141</td>\n",
       "      <td>0.001141</td>\n",
       "    </tr>\n",
       "    <tr>\n",
       "      <th>2016-08-31</th>\n",
       "      <td>64.0</td>\n",
       "      <td>64.000112</td>\n",
       "      <td>0.000112</td>\n",
       "    </tr>\n",
       "  </tbody>\n",
       "</table>\n",
       "<p>15643 rows × 3 columns</p>\n",
       "</div>"
      ],
      "text/plain": [
       "            actual  prediction       diff\n",
       "DATE                                     \n",
       "1986-11-25    67.0   95.469812  28.469812\n",
       "1988-11-02    66.0   93.664879  27.664879\n",
       "2019-11-20    69.0   95.600927  26.600927\n",
       "2019-10-05    63.0   89.551446  26.551446\n",
       "1994-11-19    64.0   90.438410  26.438410\n",
       "...            ...         ...        ...\n",
       "2017-08-06    59.0   58.998511   0.001489\n",
       "1984-07-10    59.0   59.001464   0.001464\n",
       "2010-10-17    62.0   62.001441   0.001441\n",
       "1991-03-19    70.0   70.001141   0.001141\n",
       "2016-08-31    64.0   64.000112   0.000112\n",
       "\n",
       "[15643 rows x 3 columns]"
      ]
     },
     "execution_count": 32,
     "metadata": {},
     "output_type": "execute_result"
    }
   ],
   "source": [
    "predictions.sort_values(\"diff\", ascending=False)\n"
   ]
  },
  {
   "cell_type": "code",
   "execution_count": 33,
   "id": "85153922",
   "metadata": {},
   "outputs": [
    {
     "data": {
      "text/plain": [
       "PRCP   -27.927198\n",
       "TMAX     0.802053\n",
       "TMIN    -0.042018\n",
       "dtype: float64"
      ]
     },
     "execution_count": 33,
     "metadata": {},
     "output_type": "execute_result"
    }
   ],
   "source": [
    "pd.Series(rr.coef_, index=predictors)"
   ]
  },
  {
   "cell_type": "markdown",
   "id": "8a13e175",
   "metadata": {},
   "source": [
    "## Improving the accuracy "
   ]
  },
  {
   "cell_type": "markdown",
   "id": "0776ed62",
   "metadata": {},
   "source": [
    "We can improve the accuracy by calculating the average temparature and precipitation in the past few days - 3 days and 14 days \n",
    "and looking into how the current day temprature compares with these past days. "
   ]
  },
  {
   "cell_type": "code",
   "execution_count": 34,
   "id": "4d07d987",
   "metadata": {},
   "outputs": [],
   "source": [
    "def pct_diff(old, new):\n",
    "    return (new - old) / old\n",
    "\n",
    "def compute_rolling(weather_df, horizon, col):\n",
    "    label = f\"rolling_{horizon}_{col}\"\n",
    "    weather_df[label] = weather_df[col].rolling(horizon).mean()\n",
    "    weather_df[f\"{label}_pct\"] = pct_diff(weather_df[label], weather_df[col])\n",
    "    return weather_df\n",
    "    \n",
    "rolling_horizons = [3, 14]\n",
    "for horizon in rolling_horizons:\n",
    "    for col in [\"TMAX\", \"TMIN\", \"PRCP\"]:\n",
    "        weather_df = compute_rolling(weather_df, horizon, col)"
   ]
  },
  {
   "cell_type": "code",
   "execution_count": 35,
   "id": "4b02ba95",
   "metadata": {},
   "outputs": [],
   "source": [
    "def expand_mean(df):\n",
    "    return df.expanding(1).mean()\n",
    "\n",
    "for col in [\"TMAX\", \"TMIN\", \"PRCP\"]:\n",
    "    weather_df[f\"month_avg_{col}\"] = weather_df[col].groupby(weather_df.index.month, group_keys=False).apply(expand_mean)\n",
    "    weather_df[f\"day_avg_{col}\"] = weather_df[col].groupby(weather_df.index.day_of_year, group_keys=False).apply(expand_mean)"
   ]
  },
  {
   "cell_type": "code",
   "execution_count": 36,
   "id": "a7eab56c",
   "metadata": {},
   "outputs": [],
   "source": [
    "weather_df = weather_df.iloc[14:,:]\n",
    "weather_df = weather_df.fillna(0)"
   ]
  },
  {
   "cell_type": "code",
   "execution_count": 37,
   "id": "aadfb3d3",
   "metadata": {},
   "outputs": [],
   "source": [
    "predictors = weather_df.columns[~weather_df.columns.isin([\"TARGET\", \"NAME\", \"STATION\"])]"
   ]
  },
  {
   "cell_type": "code",
   "execution_count": 38,
   "id": "d7c3a1a9",
   "metadata": {},
   "outputs": [
    {
     "data": {
      "text/plain": [
       "4.631854281956255"
      ]
     },
     "execution_count": 38,
     "metadata": {},
     "output_type": "execute_result"
    }
   ],
   "source": [
    "predictions = backtest(weather_df, rr, predictors)\n",
    "mean_absolute_error(predictions[\"actual\"], predictions[\"prediction\"])"
   ]
  },
  {
   "cell_type": "code",
   "execution_count": 39,
   "id": "6c07f2e8",
   "metadata": {},
   "outputs": [
    {
     "data": {
      "text/html": [
       "<div>\n",
       "<style scoped>\n",
       "    .dataframe tbody tr th:only-of-type {\n",
       "        vertical-align: middle;\n",
       "    }\n",
       "\n",
       "    .dataframe tbody tr th {\n",
       "        vertical-align: top;\n",
       "    }\n",
       "\n",
       "    .dataframe thead th {\n",
       "        text-align: right;\n",
       "    }\n",
       "</style>\n",
       "<table border=\"1\" class=\"dataframe\">\n",
       "  <thead>\n",
       "    <tr style=\"text-align: right;\">\n",
       "      <th></th>\n",
       "      <th>actual</th>\n",
       "      <th>prediction</th>\n",
       "      <th>diff</th>\n",
       "    </tr>\n",
       "    <tr>\n",
       "      <th>DATE</th>\n",
       "      <th></th>\n",
       "      <th></th>\n",
       "      <th></th>\n",
       "    </tr>\n",
       "  </thead>\n",
       "  <tbody>\n",
       "    <tr>\n",
       "      <th>2002-01-10</th>\n",
       "      <td>70.0</td>\n",
       "      <td>94.399450</td>\n",
       "      <td>24.399450</td>\n",
       "    </tr>\n",
       "    <tr>\n",
       "      <th>1996-11-30</th>\n",
       "      <td>94.0</td>\n",
       "      <td>69.870521</td>\n",
       "      <td>24.129479</td>\n",
       "    </tr>\n",
       "    <tr>\n",
       "      <th>2004-10-11</th>\n",
       "      <td>99.0</td>\n",
       "      <td>75.120082</td>\n",
       "      <td>23.879918</td>\n",
       "    </tr>\n",
       "    <tr>\n",
       "      <th>2019-10-03</th>\n",
       "      <td>92.0</td>\n",
       "      <td>68.164131</td>\n",
       "      <td>23.835869</td>\n",
       "    </tr>\n",
       "    <tr>\n",
       "      <th>1986-11-25</th>\n",
       "      <td>67.0</td>\n",
       "      <td>90.607572</td>\n",
       "      <td>23.607572</td>\n",
       "    </tr>\n",
       "    <tr>\n",
       "      <th>...</th>\n",
       "      <td>...</td>\n",
       "      <td>...</td>\n",
       "      <td>...</td>\n",
       "    </tr>\n",
       "    <tr>\n",
       "      <th>2001-07-20</th>\n",
       "      <td>58.0</td>\n",
       "      <td>57.998922</td>\n",
       "      <td>0.001078</td>\n",
       "    </tr>\n",
       "    <tr>\n",
       "      <th>2021-01-27</th>\n",
       "      <td>83.0</td>\n",
       "      <td>82.998971</td>\n",
       "      <td>0.001029</td>\n",
       "    </tr>\n",
       "    <tr>\n",
       "      <th>1996-02-03</th>\n",
       "      <td>80.0</td>\n",
       "      <td>80.000903</td>\n",
       "      <td>0.000903</td>\n",
       "    </tr>\n",
       "    <tr>\n",
       "      <th>2003-06-20</th>\n",
       "      <td>59.0</td>\n",
       "      <td>59.000554</td>\n",
       "      <td>0.000554</td>\n",
       "    </tr>\n",
       "    <tr>\n",
       "      <th>2003-01-06</th>\n",
       "      <td>91.0</td>\n",
       "      <td>91.000216</td>\n",
       "      <td>0.000216</td>\n",
       "    </tr>\n",
       "  </tbody>\n",
       "</table>\n",
       "<p>15629 rows × 3 columns</p>\n",
       "</div>"
      ],
      "text/plain": [
       "            actual  prediction       diff\n",
       "DATE                                     \n",
       "2002-01-10    70.0   94.399450  24.399450\n",
       "1996-11-30    94.0   69.870521  24.129479\n",
       "2004-10-11    99.0   75.120082  23.879918\n",
       "2019-10-03    92.0   68.164131  23.835869\n",
       "1986-11-25    67.0   90.607572  23.607572\n",
       "...            ...         ...        ...\n",
       "2001-07-20    58.0   57.998922   0.001078\n",
       "2021-01-27    83.0   82.998971   0.001029\n",
       "1996-02-03    80.0   80.000903   0.000903\n",
       "2003-06-20    59.0   59.000554   0.000554\n",
       "2003-01-06    91.0   91.000216   0.000216\n",
       "\n",
       "[15629 rows x 3 columns]"
      ]
     },
     "execution_count": 39,
     "metadata": {},
     "output_type": "execute_result"
    }
   ],
   "source": [
    "predictions.sort_values(\"diff\", ascending=False)"
   ]
  },
  {
   "cell_type": "code",
   "execution_count": 40,
   "id": "4e2c23b1",
   "metadata": {},
   "outputs": [
    {
     "data": {
      "text/html": [
       "<div>\n",
       "<style scoped>\n",
       "    .dataframe tbody tr th:only-of-type {\n",
       "        vertical-align: middle;\n",
       "    }\n",
       "\n",
       "    .dataframe tbody tr th {\n",
       "        vertical-align: top;\n",
       "    }\n",
       "\n",
       "    .dataframe thead th {\n",
       "        text-align: right;\n",
       "    }\n",
       "</style>\n",
       "<table border=\"1\" class=\"dataframe\">\n",
       "  <thead>\n",
       "    <tr style=\"text-align: right;\">\n",
       "      <th></th>\n",
       "      <th>STATION</th>\n",
       "      <th>NAME</th>\n",
       "      <th>PRCP</th>\n",
       "      <th>TMAX</th>\n",
       "      <th>TMIN</th>\n",
       "      <th>TARGET</th>\n",
       "      <th>rolling_3_TMAX</th>\n",
       "      <th>rolling_3_TMAX_pct</th>\n",
       "      <th>rolling_3_TMIN</th>\n",
       "      <th>rolling_3_TMIN_pct</th>\n",
       "      <th>rolling_3_PRCP</th>\n",
       "      <th>rolling_3_PRCP_pct</th>\n",
       "      <th>rolling_14_TMAX</th>\n",
       "      <th>rolling_14_TMAX_pct</th>\n",
       "      <th>rolling_14_TMIN</th>\n",
       "      <th>rolling_14_TMIN_pct</th>\n",
       "      <th>rolling_14_PRCP</th>\n",
       "      <th>rolling_14_PRCP_pct</th>\n",
       "      <th>month_avg_TMAX</th>\n",
       "      <th>day_avg_TMAX</th>\n",
       "      <th>month_avg_TMIN</th>\n",
       "      <th>day_avg_TMIN</th>\n",
       "      <th>month_avg_PRCP</th>\n",
       "      <th>day_avg_PRCP</th>\n",
       "    </tr>\n",
       "    <tr>\n",
       "      <th>DATE</th>\n",
       "      <th></th>\n",
       "      <th></th>\n",
       "      <th></th>\n",
       "      <th></th>\n",
       "      <th></th>\n",
       "      <th></th>\n",
       "      <th></th>\n",
       "      <th></th>\n",
       "      <th></th>\n",
       "      <th></th>\n",
       "      <th></th>\n",
       "      <th></th>\n",
       "      <th></th>\n",
       "      <th></th>\n",
       "      <th></th>\n",
       "      <th></th>\n",
       "      <th></th>\n",
       "      <th></th>\n",
       "      <th></th>\n",
       "      <th></th>\n",
       "      <th></th>\n",
       "      <th></th>\n",
       "      <th></th>\n",
       "      <th></th>\n",
       "    </tr>\n",
       "  </thead>\n",
       "  <tbody>\n",
       "    <tr>\n",
       "      <th>1990-03-07</th>\n",
       "      <td>ASN00023034</td>\n",
       "      <td>ADELAIDE AIRPORT, AS</td>\n",
       "      <td>0.00</td>\n",
       "      <td>75.0</td>\n",
       "      <td>50.0</td>\n",
       "      <td>91.0</td>\n",
       "      <td>79.000000</td>\n",
       "      <td>-0.050633</td>\n",
       "      <td>62.333333</td>\n",
       "      <td>-0.197861</td>\n",
       "      <td>0.000000</td>\n",
       "      <td>0.0</td>\n",
       "      <td>83.071429</td>\n",
       "      <td>-0.097163</td>\n",
       "      <td>64.714286</td>\n",
       "      <td>-0.227373</td>\n",
       "      <td>0.006429</td>\n",
       "      <td>-1.000000</td>\n",
       "      <td>78.121212</td>\n",
       "      <td>81.619048</td>\n",
       "      <td>57.908293</td>\n",
       "      <td>60.619048</td>\n",
       "      <td>0.007225</td>\n",
       "      <td>0.003333</td>\n",
       "    </tr>\n",
       "    <tr>\n",
       "      <th>1990-03-08</th>\n",
       "      <td>ASN00023034</td>\n",
       "      <td>ADELAIDE AIRPORT, AS</td>\n",
       "      <td>0.00</td>\n",
       "      <td>91.0</td>\n",
       "      <td>56.0</td>\n",
       "      <td>75.0</td>\n",
       "      <td>80.333333</td>\n",
       "      <td>0.132780</td>\n",
       "      <td>57.000000</td>\n",
       "      <td>-0.017544</td>\n",
       "      <td>0.000000</td>\n",
       "      <td>0.0</td>\n",
       "      <td>83.285714</td>\n",
       "      <td>0.092624</td>\n",
       "      <td>63.714286</td>\n",
       "      <td>-0.121076</td>\n",
       "      <td>0.006429</td>\n",
       "      <td>-1.000000</td>\n",
       "      <td>78.141720</td>\n",
       "      <td>80.047619</td>\n",
       "      <td>57.905255</td>\n",
       "      <td>59.476190</td>\n",
       "      <td>0.007213</td>\n",
       "      <td>0.007619</td>\n",
       "    </tr>\n",
       "    <tr>\n",
       "      <th>1990-03-09</th>\n",
       "      <td>ASN00023034</td>\n",
       "      <td>ADELAIDE AIRPORT, AS</td>\n",
       "      <td>0.00</td>\n",
       "      <td>75.0</td>\n",
       "      <td>61.0</td>\n",
       "      <td>86.0</td>\n",
       "      <td>80.333333</td>\n",
       "      <td>-0.066390</td>\n",
       "      <td>55.666667</td>\n",
       "      <td>0.095808</td>\n",
       "      <td>0.000000</td>\n",
       "      <td>0.0</td>\n",
       "      <td>82.714286</td>\n",
       "      <td>-0.093264</td>\n",
       "      <td>63.642857</td>\n",
       "      <td>-0.041526</td>\n",
       "      <td>0.006429</td>\n",
       "      <td>-1.000000</td>\n",
       "      <td>78.136725</td>\n",
       "      <td>78.238095</td>\n",
       "      <td>57.910175</td>\n",
       "      <td>59.571429</td>\n",
       "      <td>0.007202</td>\n",
       "      <td>0.004762</td>\n",
       "    </tr>\n",
       "    <tr>\n",
       "      <th>1990-03-10</th>\n",
       "      <td>ASN00023034</td>\n",
       "      <td>ADELAIDE AIRPORT, AS</td>\n",
       "      <td>0.00</td>\n",
       "      <td>86.0</td>\n",
       "      <td>62.0</td>\n",
       "      <td>71.0</td>\n",
       "      <td>84.000000</td>\n",
       "      <td>0.023810</td>\n",
       "      <td>59.666667</td>\n",
       "      <td>0.039106</td>\n",
       "      <td>0.000000</td>\n",
       "      <td>0.0</td>\n",
       "      <td>82.642857</td>\n",
       "      <td>0.040622</td>\n",
       "      <td>63.857143</td>\n",
       "      <td>-0.029083</td>\n",
       "      <td>0.006429</td>\n",
       "      <td>-1.000000</td>\n",
       "      <td>78.149206</td>\n",
       "      <td>80.619048</td>\n",
       "      <td>57.916667</td>\n",
       "      <td>58.119048</td>\n",
       "      <td>0.007190</td>\n",
       "      <td>0.001905</td>\n",
       "    </tr>\n",
       "    <tr>\n",
       "      <th>1990-03-11</th>\n",
       "      <td>ASN00023034</td>\n",
       "      <td>ADELAIDE AIRPORT, AS</td>\n",
       "      <td>0.02</td>\n",
       "      <td>71.0</td>\n",
       "      <td>61.0</td>\n",
       "      <td>72.0</td>\n",
       "      <td>77.333333</td>\n",
       "      <td>-0.081897</td>\n",
       "      <td>61.333333</td>\n",
       "      <td>-0.005435</td>\n",
       "      <td>0.006667</td>\n",
       "      <td>2.0</td>\n",
       "      <td>81.357143</td>\n",
       "      <td>-0.127305</td>\n",
       "      <td>63.285714</td>\n",
       "      <td>-0.036117</td>\n",
       "      <td>0.007857</td>\n",
       "      <td>1.545455</td>\n",
       "      <td>78.137876</td>\n",
       "      <td>80.380952</td>\n",
       "      <td>57.921553</td>\n",
       "      <td>60.690476</td>\n",
       "      <td>0.007211</td>\n",
       "      <td>0.005714</td>\n",
       "    </tr>\n",
       "    <tr>\n",
       "      <th>1990-03-12</th>\n",
       "      <td>ASN00023034</td>\n",
       "      <td>ADELAIDE AIRPORT, AS</td>\n",
       "      <td>0.00</td>\n",
       "      <td>72.0</td>\n",
       "      <td>55.0</td>\n",
       "      <td>73.0</td>\n",
       "      <td>76.333333</td>\n",
       "      <td>-0.056769</td>\n",
       "      <td>59.333333</td>\n",
       "      <td>-0.073034</td>\n",
       "      <td>0.006667</td>\n",
       "      <td>-1.0</td>\n",
       "      <td>80.928571</td>\n",
       "      <td>-0.110327</td>\n",
       "      <td>62.500000</td>\n",
       "      <td>-0.120000</td>\n",
       "      <td>0.007857</td>\n",
       "      <td>-1.000000</td>\n",
       "      <td>78.128165</td>\n",
       "      <td>77.571429</td>\n",
       "      <td>57.916930</td>\n",
       "      <td>58.357143</td>\n",
       "      <td>0.007199</td>\n",
       "      <td>0.007143</td>\n",
       "    </tr>\n",
       "    <tr>\n",
       "      <th>1990-03-13</th>\n",
       "      <td>ASN00023034</td>\n",
       "      <td>ADELAIDE AIRPORT, AS</td>\n",
       "      <td>0.00</td>\n",
       "      <td>73.0</td>\n",
       "      <td>56.0</td>\n",
       "      <td>73.0</td>\n",
       "      <td>72.000000</td>\n",
       "      <td>0.013889</td>\n",
       "      <td>57.333333</td>\n",
       "      <td>-0.023256</td>\n",
       "      <td>0.006667</td>\n",
       "      <td>-1.0</td>\n",
       "      <td>80.500000</td>\n",
       "      <td>-0.093168</td>\n",
       "      <td>61.642857</td>\n",
       "      <td>-0.091541</td>\n",
       "      <td>0.005000</td>\n",
       "      <td>-1.000000</td>\n",
       "      <td>78.120063</td>\n",
       "      <td>79.047619</td>\n",
       "      <td>57.913902</td>\n",
       "      <td>57.500000</td>\n",
       "      <td>0.007188</td>\n",
       "      <td>0.005714</td>\n",
       "    </tr>\n",
       "    <tr>\n",
       "      <th>1990-03-14</th>\n",
       "      <td>ASN00023034</td>\n",
       "      <td>ADELAIDE AIRPORT, AS</td>\n",
       "      <td>0.00</td>\n",
       "      <td>73.0</td>\n",
       "      <td>55.0</td>\n",
       "      <td>71.0</td>\n",
       "      <td>72.666667</td>\n",
       "      <td>0.004587</td>\n",
       "      <td>55.333333</td>\n",
       "      <td>-0.006024</td>\n",
       "      <td>0.000000</td>\n",
       "      <td>0.0</td>\n",
       "      <td>80.214286</td>\n",
       "      <td>-0.089938</td>\n",
       "      <td>61.000000</td>\n",
       "      <td>-0.098361</td>\n",
       "      <td>0.001429</td>\n",
       "      <td>-1.000000</td>\n",
       "      <td>78.111987</td>\n",
       "      <td>77.714286</td>\n",
       "      <td>57.909306</td>\n",
       "      <td>58.238095</td>\n",
       "      <td>0.007177</td>\n",
       "      <td>0.007619</td>\n",
       "    </tr>\n",
       "    <tr>\n",
       "      <th>1990-03-15</th>\n",
       "      <td>ASN00023034</td>\n",
       "      <td>ADELAIDE AIRPORT, AS</td>\n",
       "      <td>0.01</td>\n",
       "      <td>71.0</td>\n",
       "      <td>59.0</td>\n",
       "      <td>74.0</td>\n",
       "      <td>72.333333</td>\n",
       "      <td>-0.018433</td>\n",
       "      <td>56.666667</td>\n",
       "      <td>0.041176</td>\n",
       "      <td>0.003333</td>\n",
       "      <td>2.0</td>\n",
       "      <td>79.714286</td>\n",
       "      <td>-0.109319</td>\n",
       "      <td>60.642857</td>\n",
       "      <td>-0.027091</td>\n",
       "      <td>0.002143</td>\n",
       "      <td>3.666667</td>\n",
       "      <td>78.100787</td>\n",
       "      <td>75.904762</td>\n",
       "      <td>57.911024</td>\n",
       "      <td>57.904762</td>\n",
       "      <td>0.007181</td>\n",
       "      <td>0.013810</td>\n",
       "    </tr>\n",
       "    <tr>\n",
       "      <th>1990-03-16</th>\n",
       "      <td>ASN00023034</td>\n",
       "      <td>ADELAIDE AIRPORT, AS</td>\n",
       "      <td>0.00</td>\n",
       "      <td>74.0</td>\n",
       "      <td>49.0</td>\n",
       "      <td>74.0</td>\n",
       "      <td>72.666667</td>\n",
       "      <td>0.018349</td>\n",
       "      <td>54.333333</td>\n",
       "      <td>-0.098160</td>\n",
       "      <td>0.003333</td>\n",
       "      <td>-1.0</td>\n",
       "      <td>79.000000</td>\n",
       "      <td>-0.063291</td>\n",
       "      <td>59.642857</td>\n",
       "      <td>-0.178443</td>\n",
       "      <td>0.002143</td>\n",
       "      <td>-1.000000</td>\n",
       "      <td>78.094340</td>\n",
       "      <td>77.142857</td>\n",
       "      <td>57.897013</td>\n",
       "      <td>56.380952</td>\n",
       "      <td>0.007170</td>\n",
       "      <td>0.009524</td>\n",
       "    </tr>\n",
       "    <tr>\n",
       "      <th>1990-03-17</th>\n",
       "      <td>ASN00023034</td>\n",
       "      <td>ADELAIDE AIRPORT, AS</td>\n",
       "      <td>0.00</td>\n",
       "      <td>74.0</td>\n",
       "      <td>52.0</td>\n",
       "      <td>71.0</td>\n",
       "      <td>73.000000</td>\n",
       "      <td>0.013699</td>\n",
       "      <td>53.333333</td>\n",
       "      <td>-0.025000</td>\n",
       "      <td>0.003333</td>\n",
       "      <td>-1.0</td>\n",
       "      <td>77.857143</td>\n",
       "      <td>-0.049541</td>\n",
       "      <td>58.642857</td>\n",
       "      <td>-0.113276</td>\n",
       "      <td>0.002143</td>\n",
       "      <td>-1.000000</td>\n",
       "      <td>78.087912</td>\n",
       "      <td>77.857143</td>\n",
       "      <td>57.887755</td>\n",
       "      <td>56.523810</td>\n",
       "      <td>0.007159</td>\n",
       "      <td>0.000952</td>\n",
       "    </tr>\n",
       "  </tbody>\n",
       "</table>\n",
       "</div>"
      ],
      "text/plain": [
       "                STATION                  NAME  PRCP  TMAX  TMIN  TARGET  \\\n",
       "DATE                                                                      \n",
       "1990-03-07  ASN00023034  ADELAIDE AIRPORT, AS  0.00  75.0  50.0    91.0   \n",
       "1990-03-08  ASN00023034  ADELAIDE AIRPORT, AS  0.00  91.0  56.0    75.0   \n",
       "1990-03-09  ASN00023034  ADELAIDE AIRPORT, AS  0.00  75.0  61.0    86.0   \n",
       "1990-03-10  ASN00023034  ADELAIDE AIRPORT, AS  0.00  86.0  62.0    71.0   \n",
       "1990-03-11  ASN00023034  ADELAIDE AIRPORT, AS  0.02  71.0  61.0    72.0   \n",
       "1990-03-12  ASN00023034  ADELAIDE AIRPORT, AS  0.00  72.0  55.0    73.0   \n",
       "1990-03-13  ASN00023034  ADELAIDE AIRPORT, AS  0.00  73.0  56.0    73.0   \n",
       "1990-03-14  ASN00023034  ADELAIDE AIRPORT, AS  0.00  73.0  55.0    71.0   \n",
       "1990-03-15  ASN00023034  ADELAIDE AIRPORT, AS  0.01  71.0  59.0    74.0   \n",
       "1990-03-16  ASN00023034  ADELAIDE AIRPORT, AS  0.00  74.0  49.0    74.0   \n",
       "1990-03-17  ASN00023034  ADELAIDE AIRPORT, AS  0.00  74.0  52.0    71.0   \n",
       "\n",
       "            rolling_3_TMAX  rolling_3_TMAX_pct  rolling_3_TMIN  \\\n",
       "DATE                                                             \n",
       "1990-03-07       79.000000           -0.050633       62.333333   \n",
       "1990-03-08       80.333333            0.132780       57.000000   \n",
       "1990-03-09       80.333333           -0.066390       55.666667   \n",
       "1990-03-10       84.000000            0.023810       59.666667   \n",
       "1990-03-11       77.333333           -0.081897       61.333333   \n",
       "1990-03-12       76.333333           -0.056769       59.333333   \n",
       "1990-03-13       72.000000            0.013889       57.333333   \n",
       "1990-03-14       72.666667            0.004587       55.333333   \n",
       "1990-03-15       72.333333           -0.018433       56.666667   \n",
       "1990-03-16       72.666667            0.018349       54.333333   \n",
       "1990-03-17       73.000000            0.013699       53.333333   \n",
       "\n",
       "            rolling_3_TMIN_pct  rolling_3_PRCP  rolling_3_PRCP_pct  \\\n",
       "DATE                                                                 \n",
       "1990-03-07           -0.197861        0.000000                 0.0   \n",
       "1990-03-08           -0.017544        0.000000                 0.0   \n",
       "1990-03-09            0.095808        0.000000                 0.0   \n",
       "1990-03-10            0.039106        0.000000                 0.0   \n",
       "1990-03-11           -0.005435        0.006667                 2.0   \n",
       "1990-03-12           -0.073034        0.006667                -1.0   \n",
       "1990-03-13           -0.023256        0.006667                -1.0   \n",
       "1990-03-14           -0.006024        0.000000                 0.0   \n",
       "1990-03-15            0.041176        0.003333                 2.0   \n",
       "1990-03-16           -0.098160        0.003333                -1.0   \n",
       "1990-03-17           -0.025000        0.003333                -1.0   \n",
       "\n",
       "            rolling_14_TMAX  rolling_14_TMAX_pct  rolling_14_TMIN  \\\n",
       "DATE                                                                \n",
       "1990-03-07        83.071429            -0.097163        64.714286   \n",
       "1990-03-08        83.285714             0.092624        63.714286   \n",
       "1990-03-09        82.714286            -0.093264        63.642857   \n",
       "1990-03-10        82.642857             0.040622        63.857143   \n",
       "1990-03-11        81.357143            -0.127305        63.285714   \n",
       "1990-03-12        80.928571            -0.110327        62.500000   \n",
       "1990-03-13        80.500000            -0.093168        61.642857   \n",
       "1990-03-14        80.214286            -0.089938        61.000000   \n",
       "1990-03-15        79.714286            -0.109319        60.642857   \n",
       "1990-03-16        79.000000            -0.063291        59.642857   \n",
       "1990-03-17        77.857143            -0.049541        58.642857   \n",
       "\n",
       "            rolling_14_TMIN_pct  rolling_14_PRCP  rolling_14_PRCP_pct  \\\n",
       "DATE                                                                    \n",
       "1990-03-07            -0.227373         0.006429            -1.000000   \n",
       "1990-03-08            -0.121076         0.006429            -1.000000   \n",
       "1990-03-09            -0.041526         0.006429            -1.000000   \n",
       "1990-03-10            -0.029083         0.006429            -1.000000   \n",
       "1990-03-11            -0.036117         0.007857             1.545455   \n",
       "1990-03-12            -0.120000         0.007857            -1.000000   \n",
       "1990-03-13            -0.091541         0.005000            -1.000000   \n",
       "1990-03-14            -0.098361         0.001429            -1.000000   \n",
       "1990-03-15            -0.027091         0.002143             3.666667   \n",
       "1990-03-16            -0.178443         0.002143            -1.000000   \n",
       "1990-03-17            -0.113276         0.002143            -1.000000   \n",
       "\n",
       "            month_avg_TMAX  day_avg_TMAX  month_avg_TMIN  day_avg_TMIN  \\\n",
       "DATE                                                                     \n",
       "1990-03-07       78.121212     81.619048       57.908293     60.619048   \n",
       "1990-03-08       78.141720     80.047619       57.905255     59.476190   \n",
       "1990-03-09       78.136725     78.238095       57.910175     59.571429   \n",
       "1990-03-10       78.149206     80.619048       57.916667     58.119048   \n",
       "1990-03-11       78.137876     80.380952       57.921553     60.690476   \n",
       "1990-03-12       78.128165     77.571429       57.916930     58.357143   \n",
       "1990-03-13       78.120063     79.047619       57.913902     57.500000   \n",
       "1990-03-14       78.111987     77.714286       57.909306     58.238095   \n",
       "1990-03-15       78.100787     75.904762       57.911024     57.904762   \n",
       "1990-03-16       78.094340     77.142857       57.897013     56.380952   \n",
       "1990-03-17       78.087912     77.857143       57.887755     56.523810   \n",
       "\n",
       "            month_avg_PRCP  day_avg_PRCP  \n",
       "DATE                                      \n",
       "1990-03-07        0.007225      0.003333  \n",
       "1990-03-08        0.007213      0.007619  \n",
       "1990-03-09        0.007202      0.004762  \n",
       "1990-03-10        0.007190      0.001905  \n",
       "1990-03-11        0.007211      0.005714  \n",
       "1990-03-12        0.007199      0.007143  \n",
       "1990-03-13        0.007188      0.005714  \n",
       "1990-03-14        0.007177      0.007619  \n",
       "1990-03-15        0.007181      0.013810  \n",
       "1990-03-16        0.007170      0.009524  \n",
       "1990-03-17        0.007159      0.000952  "
      ]
     },
     "execution_count": 40,
     "metadata": {},
     "output_type": "execute_result"
    }
   ],
   "source": [
    "weather_df.loc[\"1990-03-07\": \"1990-03-17\"]"
   ]
  },
  {
   "cell_type": "code",
   "execution_count": 41,
   "id": "fb80dfa1",
   "metadata": {},
   "outputs": [
    {
     "data": {
      "text/plain": [
       "<AxesSubplot:>"
      ]
     },
     "execution_count": 41,
     "metadata": {},
     "output_type": "execute_result"
    },
    {
     "data": {
      "image/png": "[encoded data removed]",
      "text/plain": [
       "<Figure size 576x360 with 1 Axes>"
      ]
     },
     "metadata": {},
     "output_type": "display_data"
    }
   ],
   "source": [
    "(predictions[\"diff\"].round().value_counts().sort_index() / predictions.shape[0]).plot()"
   ]
  },
  {
   "cell_type": "code",
   "execution_count": 42,
   "id": "93148d96",
   "metadata": {},
   "outputs": [
    {
     "data": {
      "text/html": [
       "<div>\n",
       "<style scoped>\n",
       "    .dataframe tbody tr th:only-of-type {\n",
       "        vertical-align: middle;\n",
       "    }\n",
       "\n",
       "    .dataframe tbody tr th {\n",
       "        vertical-align: top;\n",
       "    }\n",
       "\n",
       "    .dataframe thead th {\n",
       "        text-align: right;\n",
       "    }\n",
       "</style>\n",
       "<table border=\"1\" class=\"dataframe\">\n",
       "  <thead>\n",
       "    <tr style=\"text-align: right;\">\n",
       "      <th></th>\n",
       "      <th>actual</th>\n",
       "      <th>prediction</th>\n",
       "      <th>diff</th>\n",
       "    </tr>\n",
       "    <tr>\n",
       "      <th>DATE</th>\n",
       "      <th></th>\n",
       "      <th></th>\n",
       "      <th></th>\n",
       "    </tr>\n",
       "  </thead>\n",
       "  <tbody>\n",
       "    <tr>\n",
       "      <th>1980-01-13</th>\n",
       "      <td>83.0</td>\n",
       "      <td>80.405891</td>\n",
       "      <td>2.594109</td>\n",
       "    </tr>\n",
       "    <tr>\n",
       "      <th>1980-01-14</th>\n",
       "      <td>72.0</td>\n",
       "      <td>83.480607</td>\n",
       "      <td>11.480607</td>\n",
       "    </tr>\n",
       "    <tr>\n",
       "      <th>1980-01-15</th>\n",
       "      <td>77.0</td>\n",
       "      <td>75.509562</td>\n",
       "      <td>1.490438</td>\n",
       "    </tr>\n",
       "    <tr>\n",
       "      <th>1980-01-16</th>\n",
       "      <td>95.0</td>\n",
       "      <td>81.024648</td>\n",
       "      <td>13.975352</td>\n",
       "    </tr>\n",
       "    <tr>\n",
       "      <th>1980-01-17</th>\n",
       "      <td>70.0</td>\n",
       "      <td>90.293414</td>\n",
       "      <td>20.293414</td>\n",
       "    </tr>\n",
       "    <tr>\n",
       "      <th>...</th>\n",
       "      <td>...</td>\n",
       "      <td>...</td>\n",
       "      <td>...</td>\n",
       "    </tr>\n",
       "    <tr>\n",
       "      <th>2022-10-23</th>\n",
       "      <td>66.0</td>\n",
       "      <td>65.254970</td>\n",
       "      <td>0.745030</td>\n",
       "    </tr>\n",
       "    <tr>\n",
       "      <th>2022-10-24</th>\n",
       "      <td>65.0</td>\n",
       "      <td>67.319739</td>\n",
       "      <td>2.319739</td>\n",
       "    </tr>\n",
       "    <tr>\n",
       "      <th>2022-10-25</th>\n",
       "      <td>65.0</td>\n",
       "      <td>66.413389</td>\n",
       "      <td>1.413389</td>\n",
       "    </tr>\n",
       "    <tr>\n",
       "      <th>2022-10-26</th>\n",
       "      <td>65.0</td>\n",
       "      <td>65.881308</td>\n",
       "      <td>0.881308</td>\n",
       "    </tr>\n",
       "    <tr>\n",
       "      <th>2022-10-27</th>\n",
       "      <td>65.0</td>\n",
       "      <td>66.668804</td>\n",
       "      <td>1.668804</td>\n",
       "    </tr>\n",
       "  </tbody>\n",
       "</table>\n",
       "<p>15629 rows × 3 columns</p>\n",
       "</div>"
      ],
      "text/plain": [
       "            actual  prediction       diff\n",
       "DATE                                     \n",
       "1980-01-13    83.0   80.405891   2.594109\n",
       "1980-01-14    72.0   83.480607  11.480607\n",
       "1980-01-15    77.0   75.509562   1.490438\n",
       "1980-01-16    95.0   81.024648  13.975352\n",
       "1980-01-17    70.0   90.293414  20.293414\n",
       "...            ...         ...        ...\n",
       "2022-10-23    66.0   65.254970   0.745030\n",
       "2022-10-24    65.0   67.319739   2.319739\n",
       "2022-10-25    65.0   66.413389   1.413389\n",
       "2022-10-26    65.0   65.881308   0.881308\n",
       "2022-10-27    65.0   66.668804   1.668804\n",
       "\n",
       "[15629 rows x 3 columns]"
      ]
     },
     "execution_count": 42,
     "metadata": {},
     "output_type": "execute_result"
    }
   ],
   "source": [
    "predictions"
   ]
  },
  {
   "cell_type": "code",
   "execution_count": 43,
   "id": "a243f2ac",
   "metadata": {},
   "outputs": [
    {
     "data": {
      "text/plain": [
       "PRCP                   -7.168625\n",
       "TMAX                    0.680991\n",
       "TMIN                   -1.191933\n",
       "rolling_3_TMAX          0.595651\n",
       "rolling_3_TMAX_pct     52.087303\n",
       "rolling_3_TMIN          0.362149\n",
       "rolling_3_TMIN_pct     11.847096\n",
       "rolling_3_PRCP        -19.355019\n",
       "rolling_3_PRCP_pct      0.211772\n",
       "rolling_14_TMAX        -0.601452\n",
       "rolling_14_TMAX_pct   -51.924870\n",
       "rolling_14_TMIN         0.666892\n",
       "rolling_14_TMIN_pct    34.331889\n",
       "rolling_14_PRCP        -5.540316\n",
       "rolling_14_PRCP_pct    -0.107807\n",
       "month_avg_TMAX          0.242244\n",
       "day_avg_TMAX            0.113785\n",
       "month_avg_TMIN          0.013015\n",
       "day_avg_TMIN            0.056734\n",
       "month_avg_PRCP        -13.267715\n",
       "day_avg_PRCP           -2.943283\n",
       "dtype: float64"
      ]
     },
     "execution_count": 43,
     "metadata": {},
     "output_type": "execute_result"
    }
   ],
   "source": [
    "pd.Series(rr.coef_, index=predictors)"
   ]
  },
  {
   "cell_type": "code",
   "execution_count": null,
   "id": "6b1512c4",
   "metadata": {},
   "outputs": [],
   "source": []
  }
 ],
 "metadata": {
  "kernelspec": {
   "display_name": "Python 3",
   "language": "python",
   "name": "python3"
  },
  "language_info": {
   "codemirror_mode": {
    "name": "ipython",
    "version": 3
   },
   "file_extension": ".py",
   "mimetype": "text/x-python",
   "name": "python",
   "nbconvert_exporter": "python",
   "pygments_lexer": "ipython3",
   "version": "3.8.8"
  }
 },
 "nbformat": 4,
 "nbformat_minor": 5
}
